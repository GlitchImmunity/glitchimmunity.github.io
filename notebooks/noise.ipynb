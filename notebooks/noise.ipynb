{
 "cells": [
  {
   "cell_type": "code",
   "execution_count": 1,
   "metadata": {},
   "outputs": [],
   "source": [
    "import numpy as np\n",
    "import matplotlib.pyplot as plt"
   ]
  },
  {
   "cell_type": "markdown",
   "metadata": {},
   "source": [
    "# Introduction"
   ]
  },
  {
   "cell_type": "markdown",
   "metadata": {},
   "source": [
    "In the realm of digital image processing, noise is almost a guaranteed challenge that can degrade the quality of an image. While many modern cameras have techniques and hardware considerations that safeguard against noise, no technique can perfectly prevent all noise -- only mitigate. This can be detrimental for downstream applications, like segmentation, monocular depth estimation, sparse novel view synthesis, 3d reconstruction, etc., where noise can subtly affect the input but greatly affect the output the algorithms used for these tasks. For this reason, computer vision scientist have algorithms to help mitigate the presense of noise that they can taylor for their situation.\n",
    "\n",
    "When digital cameras capture images, there are three main types of noise found in everyday situations: photon noise, read/ADC noise, dark noise. We will discuss each of these noises in the following sections. We will also discuss possible noise arising from digital issues."
   ]
  },
  {
   "cell_type": "markdown",
   "metadata": {},
   "source": [
    "# Noise"
   ]
  },
  {
   "cell_type": "markdown",
   "metadata": {},
   "source": [
    "## Photon Noise"
   ]
  },
  {
   "cell_type": "markdown",
   "metadata": {},
   "source": []
  }
 ],
 "metadata": {
  "kernelspec": {
   "display_name": "Python 3",
   "language": "python",
   "name": "python3"
  },
  "language_info": {
   "codemirror_mode": {
    "name": "ipython",
    "version": 3
   },
   "file_extension": ".py",
   "mimetype": "text/x-python",
   "name": "python",
   "nbconvert_exporter": "python",
   "pygments_lexer": "ipython3",
   "version": "3.10.8"
  }
 },
 "nbformat": 4,
 "nbformat_minor": 2
}
